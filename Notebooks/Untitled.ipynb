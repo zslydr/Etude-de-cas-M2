{
 "cells": [
  {
   "cell_type": "code",
   "execution_count": 1,
   "metadata": {
    "collapsed": true
   },
   "outputs": [],
   "source": [
    "%matplotlib inline\n",
    "\n",
    "import numpy as np\n",
    "import matplotlib\n",
    "from matplotlib import pyplot\n",
    "import tensorflow as tf"
   ]
  },
  {
   "cell_type": "code",
   "execution_count": 2,
   "metadata": {
    "collapsed": true
   },
   "outputs": [],
   "source": [
    "import pickle\n",
    "\n",
    "def load_pickled_data(file, columns):\n",
    "    \"\"\"\n",
    "    Loads pickled training and test data.\n",
    "    \n",
    "    Parameters\n",
    "    ----------\n",
    "    file    : \n",
    "              Name of the pickle file.\n",
    "    columns : list of strings\n",
    "              List of columns in pickled data we're interested in.\n",
    "\n",
    "    Returns\n",
    "    -------\n",
    "    A tuple of datasets for given columns.    \n",
    "    \"\"\"\n",
    "\n",
    "    with open(file, mode='rb') as f:\n",
    "        dataset = pickle.load(f)\n",
    "    return tuple(map(lambda c: dataset[c], columns))"
   ]
  },
  {
   "cell_type": "code",
   "execution_count": null,
   "metadata": {
    "collapsed": true
   },
   "outputs": [],
   "source": [
    "from pandas.io.parsers import read_csv\n",
    "\n",
    "signnames = read_csv(\"signnames.csv\").values[:, 1]\n",
    "train_dataset_file = \"traffic-signs-data/train.p\"\n",
    "test_dataset_file = \"traffic-signs-data/test.p\"\n",
    "train_balanced_dataset_file = \"traffic-signs-data/train_balanced.p\"\n",
    "\n",
    "X_train, y_train = load_pickled_data(train_dataset_file, ['features', 'labels'])\n",
    "X_test, y_test = load_pickled_data(test_dataset_file, ['features', 'labels'])\n",
    "\n",
    "n_train = y_train.shape[0]\n",
    "n_test = y_test.shape[0]\n",
    "image_shape = X_train[0].shape\n",
    "image_size = image_shape[0]\n",
    "sign_classes, class_indices, class_counts = np.unique(y_train, return_index = True, return_counts = True)\n",
    "n_classes = class_counts.shape[0]\n",
    "\n",
    "print(\"Number of training examples =\", n_train)\n",
    "print(\"Number of testing examples =\", n_test)\n",
    "print(\"Image data shape =\", image_shape)\n",
    "print(\"Number of classes =\", n_classes)"
   ]
  }
 ],
 "metadata": {
  "kernelspec": {
   "display_name": "Python 3",
   "language": "python",
   "name": "python3"
  },
  "language_info": {
   "codemirror_mode": {
    "name": "ipython",
    "version": 3
   },
   "file_extension": ".py",
   "mimetype": "text/x-python",
   "name": "python",
   "nbconvert_exporter": "python",
   "pygments_lexer": "ipython3",
   "version": "3.6.0"
  }
 },
 "nbformat": 4,
 "nbformat_minor": 2
}

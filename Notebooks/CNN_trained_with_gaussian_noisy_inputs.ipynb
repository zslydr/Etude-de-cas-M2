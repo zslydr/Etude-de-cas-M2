{
 "cells": [
  {
   "cell_type": "code",
   "execution_count": 1,
   "metadata": {},
   "outputs": [
    {
     "name": "stderr",
     "output_type": "stream",
     "text": [
      "Using TensorFlow backend.\n"
     ]
    },
    {
     "name": "stdout",
     "output_type": "stream",
     "text": [
      "0.0 % de progression\n",
      "10.0 % de progression\n",
      "20.0 % de progression\n",
      "30.0 % de progression\n",
      "40.0 % de progression\n",
      "50.0 % de progression\n",
      "60.0 % de progression\n",
      "70.0 % de progression\n",
      "80.0 % de progression\n",
      "90.0 % de progression\n",
      "0.0 % de progression\n",
      "22.22222222222222 % de progression\n",
      "44.44444444444444 % de progression\n",
      "66.66666666666666 % de progression\n",
      "88.88888888888889 % de progression\n"
     ]
    },
    {
     "name": "stderr",
     "output_type": "stream",
     "text": [
      "C:\\Users\\Pierre Lavigne\\Anaconda3\\lib\\site-packages\\skimage\\util\\dtype.py:110: UserWarning: Possible precision loss when converting from float64 to uint16\n",
      "  \"%s to %s\" % (dtypeobj_in, dtypeobj))\n"
     ]
    },
    {
     "name": "stdout",
     "output_type": "stream",
     "text": [
      "Train on 46200 samples, validate on 23940 samples\n",
      "Epoch 1/20\n",
      "46200/46200 [==============================] - 142s 3ms/step - loss: 0.1724 - acc: 0.9482 - val_loss: 0.1363 - val_acc: 0.9513\n",
      "Epoch 2/20\n",
      "46200/46200 [==============================] - 142s 3ms/step - loss: 0.0519 - acc: 0.9834 - val_loss: 0.2098 - val_acc: 0.9392\n",
      "Epoch 3/20\n",
      "46200/46200 [==============================] - 142s 3ms/step - loss: 0.0329 - acc: 0.9891 - val_loss: 0.1977 - val_acc: 0.9480\n",
      "23940/23940 [==============================] - 19s 792us/step\n"
     ]
    },
    {
     "data": {
      "text/plain": [
       "[0.1977079807804357, 0.947953216374269]"
      ]
     },
     "execution_count": 1,
     "metadata": {},
     "output_type": "execute_result"
    }
   ],
   "source": [
    "import random\n",
    "import numpy as np\n",
    "import importlib\n",
    "import matplotlib.pyplot as plt\n",
    "from keras.utils import to_categorical\n",
    "import os\n",
    "os.chdir('C:/Users/Pierre Lavigne/Dropbox/Etude de Cas M2/Scripts') #Select your working directory\n",
    "cwd = os.getcwd()\n",
    "F=importlib.import_module(\"Functions\")\n",
    "F=importlib.reload(F)\n",
    "\n",
    "\n",
    "(X_train, train_label) = F.load_pickled_data(\"C:/Users/Pierre Lavigne/Desktop/data/train.p\", ['features', 'labels'])\n",
    "(X_test, test_label) = F.load_pickled_data(\"C:/Users/Pierre Lavigne/Desktop/data/test.p\", ['features', 'labels'])\n",
    "X_train = X_train/255.\n",
    "X_test = X_test/255.\n",
    "\n",
    "x_train = X_train[:1000]\n",
    "train_label = train_label[:1000]\n",
    "\n",
    "x_test = X_test[test_label == 41]\n",
    "x_test = np.append(x_test,X_test[test_label == 31],axis=0)\n",
    "x_test = np.append(x_test,X_test[test_label == 36],axis=0)\n",
    "\n",
    "y_test = test_label[test_label == 41]\n",
    "y_test = np.append(y_test,test_label[test_label == 31],axis =0)\n",
    "y_test = np.append(y_test,test_label[test_label == 36],axis =0)\n",
    "\n",
    "(x_train,train_label) = F.increase_data(x_train,10,train_label)\n",
    "(x_test,test_label) = F.increase_data(x_test,10,y_test)\n",
    "\n",
    "\n",
    "(x_train,train_label) = F.flip_extend(x_train,train_label)\n",
    "(x_test,test_label) = F.flip_extend(x_test,test_label)\n",
    "\n",
    "from skimage.util import random_noise\n",
    "\n",
    "x_train_noisy = np.array([random_noise(x, mode='pepper', seed=None, clip=True) for x in x_train])\n",
    "x_train=F.preprocess_dataset_new(x_train)\n",
    "x_train_noisy=F.preprocess_dataset_new(x_train_noisy)\n",
    "\n",
    "x_test_noisy = np.array([random_noise(x, mode='pepper', seed=None, clip=True) for x in x_test])\n",
    "x_test=F.preprocess_dataset_new(x_test)\n",
    "x_test_noisy=F.preprocess_dataset_new(x_test_noisy)\n",
    "\n",
    "\n",
    "x_test = x_test.astype('float32') \n",
    "x_train = x_train.astype('float32') \n",
    "x_test_noisy = x_test_noisy.astype('float32') \n",
    "x_train_noisy = x_train_noisy.astype('float32') \n",
    "\n",
    "\n",
    "x_train = np.reshape(x_train, (len(x_train), 32, 32, 1))  # adapt this if using `channels_first` image data format\n",
    "x_test = np.reshape(x_test, (len(x_test), 32, 32, 1))  # adapt this if using `channels_first` image data format\n",
    "x_train_noisy = np.reshape(x_train_noisy, (len(x_train), 32, 32, 1))  # adapt this if using `channels_first` image data format\n",
    "x_test_noisy = np.reshape(x_test_noisy, (len(x_test), 32, 32, 1))  # adapt this if using `channels_first` image data format\n",
    "\n",
    "x_test = np.append(x_test,x_test_noisy,axis = 0)\n",
    "x_train = np.append(x_train,x_train_noisy,axis = 0)\n",
    "train_label = np.append(train_label,train_label,axis = 0)\n",
    "test_label = np.append(test_label,test_label,axis = 0)\n",
    "\n",
    "from keras.utils import to_categorical\n",
    "target_test=to_categorical(test_label)\n",
    "target_train=to_categorical(train_label)\n",
    "\n",
    "import keras\n",
    "from keras.models import Sequential\n",
    "from keras.layers import Dense, Dropout, Flatten\n",
    "from keras.layers import Conv2D, MaxPooling2D\n",
    "from keras import backend as K\n",
    "from keras.callbacks import EarlyStopping\n",
    "\n",
    "early_stopping_monitor = EarlyStopping(patience=2)\n",
    "\n",
    "input_shape=x_train[1].shape\n",
    "                   \n",
    "model = Sequential()\n",
    "model.add(Conv2D(16, kernel_size=(3, 3),\n",
    "                 activation='relu',\n",
    "                 input_shape=input_shape))\n",
    "model.add(Conv2D(32, (3, 3), activation='relu'))\n",
    "model.add(MaxPooling2D(pool_size=(2, 2)))\n",
    "model.add(Dropout(0.25))\n",
    "model.add(Flatten())\n",
    "model.add(Dense(128, activation='relu'))\n",
    "model.add(Dropout(0.5))\n",
    "model.add(Dense(target_train.shape[1], activation='softmax'))\n",
    "\n",
    "model.compile(loss='categorical_crossentropy',\n",
    "              optimizer=\"adam\",\n",
    "              metrics=['accuracy'])\n",
    "\n",
    "\n",
    "model.fit(x_train,target_train,\n",
    "          epochs=20,\n",
    "          validation_data=(x_test, target_test),\n",
    "          callbacks=[early_stopping_monitor])\n",
    "\n",
    "model.evaluate(x_test,target_test)"
   ]
  }
 ],
 "metadata": {
  "kernelspec": {
   "display_name": "Python 3",
   "language": "python",
   "name": "python3"
  },
  "language_info": {
   "codemirror_mode": {
    "name": "ipython",
    "version": 3
   },
   "file_extension": ".py",
   "mimetype": "text/x-python",
   "name": "python",
   "nbconvert_exporter": "python",
   "pygments_lexer": "ipython3",
   "version": "3.6.0"
  }
 },
 "nbformat": 4,
 "nbformat_minor": 2
}

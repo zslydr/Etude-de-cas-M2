{
 "cells": [
  {
   "cell_type": "code",
   "execution_count": 1,
   "metadata": {},
   "outputs": [
    {
     "name": "stderr",
     "output_type": "stream",
     "text": [
      "Using TensorFlow backend.\n"
     ]
    },
    {
     "name": "stdout",
     "output_type": "stream",
     "text": [
      "0.0 % de progression\n",
      "10.0 % de progression\n",
      "20.0 % de progression\n",
      "30.0 % de progression\n",
      "40.0 % de progression\n",
      "50.0 % de progression\n",
      "60.0 % de progression\n",
      "70.0 % de progression\n",
      "80.0 % de progression\n",
      "90.0 % de progression\n",
      "0.0 % de progression\n",
      "22.22222222222222 % de progression\n",
      "44.44444444444444 % de progression\n",
      "66.66666666666666 % de progression\n",
      "88.88888888888889 % de progression\n"
     ]
    },
    {
     "name": "stderr",
     "output_type": "stream",
     "text": [
      "C:\\Users\\Pierre Lavigne\\Anaconda3\\lib\\site-packages\\skimage\\util\\dtype.py:110: UserWarning: Possible precision loss when converting from float64 to uint16\n",
      "  \"%s to %s\" % (dtypeobj_in, dtypeobj))\n"
     ]
    }
   ],
   "source": [
    "import random\n",
    "import numpy as np\n",
    "import importlib\n",
    "import matplotlib.pyplot as plt\n",
    "from keras.utils import to_categorical\n",
    "import os\n",
    "os.chdir('C:/Users/Pierre Lavigne/Dropbox/Etude de Cas M2/Scripts') #Select your working directory\n",
    "cwd = os.getcwd()\n",
    "F=importlib.import_module(\"Functions\")\n",
    "F=importlib.reload(F)\n",
    "\n",
    "\n",
    "(X_train, train_label) = F.load_pickled_data(\"C:/Users/Pierre Lavigne/Desktop/data/train.p\", ['features', 'labels'])\n",
    "(X_test, test_label) = F.load_pickled_data(\"C:/Users/Pierre Lavigne/Desktop/data/test.p\", ['features', 'labels'])\n",
    "X_train = X_train/255.\n",
    "X_test = X_test/255.\n",
    "\n",
    "x_train = X_train[:1000]\n",
    "train_label = train_label[:1000]\n",
    "\n",
    "x_test = X_test[test_label == 41]\n",
    "x_test = np.append(x_test,X_test[test_label == 31],axis=0)\n",
    "x_test = np.append(x_test,X_test[test_label == 36],axis=0)\n",
    "\n",
    "y_test = test_label[test_label == 41]\n",
    "y_test = np.append(y_test,test_label[test_label == 31],axis =0)\n",
    "y_test = np.append(y_test,test_label[test_label == 36],axis =0)\n",
    "\n",
    "(x_train,train_label) = F.increase_data(x_train,15,train_label)\n",
    "(x_test,test_label) = F.increase_data(x_test,15,y_test)\n",
    "\n",
    "\n",
    "(x_train,train_label) = F.flip_extend(x_train,train_label)\n",
    "(x_test,test_label) = F.flip_extend(x_test,test_label)\n",
    "\n",
    "x_train_noisy = F.sqr_noise(x_train,(5,25),(5,25),3)\n",
    "x_train=F.preprocess_dataset_new(x_train)\n",
    "x_train_noisy=F.preprocess_dataset_new(x_train_noisy)\n",
    "\n",
    "x_test_noisy = F.sqr_noise(x_test,(5,25),(5,25),3)\n",
    "x_test=F.preprocess_dataset_new(x_test)\n",
    "x_test_noisy=F.preprocess_dataset_new(x_test_noisy)\n",
    "\n",
    "x_test = x_test.astype('float32') \n",
    "x_train = x_train.astype('float32') \n",
    "x_test_noisy = x_test_noisy.astype('float32') \n",
    "x_train_noisy = x_train_noisy.astype('float32') \n",
    "\n",
    "\n",
    "x_train = np.reshape(x_train, (len(x_train), 32, 32, 1))  # adapt this if using `channels_first` image data format\n",
    "x_test = np.reshape(x_test, (len(x_test), 32, 32, 1))  # adapt this if using `channels_first` image data format\n",
    "x_train_noisy = np.reshape(x_train_noisy, (len(x_train), 32, 32, 1))  # adapt this if using `channels_first` image data format\n",
    "x_test_noisy = np.reshape(x_test_noisy, (len(x_test), 32, 32, 1))  # adapt this if using `channels_first` image data format\n",
    "\n",
    "target_train = to_categorical(train_label)\n",
    "target_test=to_categorical(test_label)"
   ]
  },
  {
   "cell_type": "code",
   "execution_count": 2,
   "metadata": {},
   "outputs": [
    {
     "data": {
      "text/plain": [
       "((34100, 32, 32, 1), (34100, 42), (17670, 32, 32, 1), (17670, 42))"
      ]
     },
     "execution_count": 2,
     "metadata": {},
     "output_type": "execute_result"
    }
   ],
   "source": [
    "x_train.shape,target_train.shape,x_test.shape,target_test.shape"
   ]
  },
  {
   "cell_type": "code",
   "execution_count": 3,
   "metadata": {},
   "outputs": [
    {
     "name": "stdout",
     "output_type": "stream",
     "text": [
      "_________________________________________________________________\n",
      "Layer (type)                 Output Shape              Param #   \n",
      "=================================================================\n",
      "input_1 (InputLayer)         (None, 32, 32, 1)         0         \n",
      "_________________________________________________________________\n",
      "conv2d_1 (Conv2D)            (None, 32, 32, 16)        160       \n",
      "_________________________________________________________________\n",
      "max_pooling2d_1 (MaxPooling2 (None, 16, 16, 16)        0         \n",
      "_________________________________________________________________\n",
      "conv2d_2 (Conv2D)            (None, 16, 16, 8)         1160      \n",
      "_________________________________________________________________\n",
      "max_pooling2d_2 (MaxPooling2 (None, 8, 8, 8)           0         \n",
      "_________________________________________________________________\n",
      "conv2d_3 (Conv2D)            (None, 8, 8, 8)           584       \n",
      "_________________________________________________________________\n",
      "max_pooling2d_3 (MaxPooling2 (None, 4, 4, 8)           0         \n",
      "_________________________________________________________________\n",
      "conv2d_4 (Conv2D)            (None, 4, 4, 8)           584       \n",
      "_________________________________________________________________\n",
      "up_sampling2d_1 (UpSampling2 (None, 8, 8, 8)           0         \n",
      "_________________________________________________________________\n",
      "conv2d_5 (Conv2D)            (None, 8, 8, 8)           584       \n",
      "_________________________________________________________________\n",
      "up_sampling2d_2 (UpSampling2 (None, 16, 16, 8)         0         \n",
      "_________________________________________________________________\n",
      "conv2d_6 (Conv2D)            (None, 16, 16, 16)        1168      \n",
      "_________________________________________________________________\n",
      "up_sampling2d_3 (UpSampling2 (None, 32, 32, 16)        0         \n",
      "_________________________________________________________________\n",
      "conv2d_7 (Conv2D)            (None, 32, 32, 1)         145       \n",
      "=================================================================\n",
      "Total params: 4,385\n",
      "Trainable params: 4,385\n",
      "Non-trainable params: 0\n",
      "_________________________________________________________________\n"
     ]
    }
   ],
   "source": [
    "from keras.layers import Input, Dense, Conv2D, MaxPooling2D, UpSampling2D, Conv2DTranspose\n",
    "from keras.models import Model\n",
    "from keras import backend as K\n",
    "\n",
    "input_img = Input(shape=(32, 32, 1))  # adapt this if using `channels_first` image data format\n",
    "\n",
    "x = Conv2D(16, (3, 3), activation='relu', padding='same')(input_img)\n",
    "x = MaxPooling2D((2, 2), padding='same')(x)\n",
    "x = Conv2D(8, (3, 3), activation='relu', padding='same')(x)\n",
    "x = MaxPooling2D((2, 2), padding='same')(x)\n",
    "x = Conv2D(8, (3, 3), activation='relu', padding='same')(x)\n",
    "encoded = MaxPooling2D((2, 2), padding='same')(x)\n",
    "\n",
    "# at this point the representation is (4, 4, 8) i.e. 128-dimensional\n",
    "\n",
    "x = Conv2D(8, (3, 3), activation='relu', padding='same')(encoded)\n",
    "x = UpSampling2D((2, 2))(x)\n",
    "x = Conv2D(8, (3, 3), activation='relu', padding='same')(x)\n",
    "x = UpSampling2D((2, 2))(x)\n",
    "x = Conv2D(16, (3, 3), activation='relu', padding ='same')(x)\n",
    "x = UpSampling2D((2, 2))(x)\n",
    "decoded = Conv2D(1, (3, 3), activation='sigmoid', padding='same')(x)\n",
    "\n",
    "autoencoder = Model(input_img, decoded)\n",
    "autoencoder.compile(optimizer='adadelta', loss='binary_crossentropy')\n",
    "\n",
    "autoencoder.summary()"
   ]
  },
  {
   "cell_type": "code",
   "execution_count": 4,
   "metadata": {
    "scrolled": false
   },
   "outputs": [
    {
     "name": "stdout",
     "output_type": "stream",
     "text": [
      "Train on 34100 samples, validate on 17670 samples\n",
      "Epoch 1/40\n",
      "34100/34100 [==============================] - 84s 2ms/step - loss: 0.6761 - val_loss: 0.6618\n",
      "Epoch 2/40\n",
      "34100/34100 [==============================] - 84s 2ms/step - loss: 0.6671 - val_loss: 0.6619\n",
      "Epoch 3/40\n",
      "34100/34100 [==============================] - 85s 3ms/step - loss: 0.6626 - val_loss: 0.6553\n",
      "Epoch 4/40\n",
      "34100/34100 [==============================] - 86s 3ms/step - loss: 0.6589 - val_loss: 0.6561\n",
      "Epoch 5/40\n",
      "34100/34100 [==============================] - 86s 3ms/step - loss: 0.6555 - val_loss: 0.6496\n",
      "Epoch 6/40\n",
      "34100/34100 [==============================] - 87s 3ms/step - loss: 0.6528 - val_loss: 0.6484\n",
      "Epoch 7/40\n",
      "34100/34100 [==============================] - 88s 3ms/step - loss: 0.6498 - val_loss: 0.6455\n",
      "Epoch 8/40\n",
      "34100/34100 [==============================] - 90s 3ms/step - loss: 0.6478 - val_loss: 0.6435\n",
      "Epoch 9/40\n",
      "34100/34100 [==============================] - 89s 3ms/step - loss: 0.6461 - val_loss: 0.6415\n",
      "Epoch 10/40\n",
      "34100/34100 [==============================] - 92s 3ms/step - loss: 0.6444 - val_loss: 0.6393\n",
      "Epoch 11/40\n",
      "34100/34100 [==============================] - 89s 3ms/step - loss: 0.6430 - val_loss: 0.6407\n",
      "Epoch 12/40\n",
      "34100/34100 [==============================] - 90s 3ms/step - loss: 0.6417 - val_loss: 0.6378\n",
      "Epoch 13/40\n",
      "34100/34100 [==============================] - 91s 3ms/step - loss: 0.6408 - val_loss: 0.6369\n",
      "Epoch 14/40\n",
      "34100/34100 [==============================] - 90s 3ms/step - loss: 0.6400 - val_loss: 0.6383\n",
      "Epoch 15/40\n",
      "34100/34100 [==============================] - 90s 3ms/step - loss: 0.6392 - val_loss: 0.6355\n",
      "Epoch 16/40\n",
      "34100/34100 [==============================] - 92s 3ms/step - loss: 0.6385 - val_loss: 0.6359\n",
      "Epoch 17/40\n",
      "34100/34100 [==============================] - 90s 3ms/step - loss: 0.6381 - val_loss: 0.6355\n",
      "Epoch 18/40\n",
      "34100/34100 [==============================] - 91s 3ms/step - loss: 0.6376 - val_loss: 0.6338\n",
      "Epoch 19/40\n",
      "34100/34100 [==============================] - 91s 3ms/step - loss: 0.6372 - val_loss: 0.6399\n",
      "Epoch 20/40\n",
      "34100/34100 [==============================] - 91s 3ms/step - loss: 0.6367 - val_loss: 0.6328\n",
      "Epoch 21/40\n",
      "34100/34100 [==============================] - 91s 3ms/step - loss: 0.6363 - val_loss: 0.6325\n",
      "Epoch 22/40\n",
      "34100/34100 [==============================] - 93s 3ms/step - loss: 0.6358 - val_loss: 0.6323\n",
      "Epoch 23/40\n",
      "34100/34100 [==============================] - 94s 3ms/step - loss: 0.6354 - val_loss: 0.6309\n",
      "Epoch 24/40\n",
      "34100/34100 [==============================] - 94s 3ms/step - loss: 0.6350 - val_loss: 0.6362\n",
      "Epoch 25/40\n",
      "34100/34100 [==============================] - 94s 3ms/step - loss: 0.6344 - val_loss: 0.6315\n",
      "Epoch 26/40\n",
      "34100/34100 [==============================] - 93s 3ms/step - loss: 0.6342 - val_loss: 0.6312\n",
      "Epoch 27/40\n",
      "34100/34100 [==============================] - 93s 3ms/step - loss: 0.6338 - val_loss: 0.6300\n",
      "Epoch 28/40\n",
      "34100/34100 [==============================] - 94s 3ms/step - loss: 0.6334 - val_loss: 0.6290\n",
      "Epoch 29/40\n",
      "34100/34100 [==============================] - 94s 3ms/step - loss: 0.6333 - val_loss: 0.6289\n",
      "Epoch 30/40\n",
      "34100/34100 [==============================] - 93s 3ms/step - loss: 0.6329 - val_loss: 0.6340\n",
      "Epoch 31/40\n",
      "34100/34100 [==============================] - 94s 3ms/step - loss: 0.6328 - val_loss: 0.6300\n",
      "Epoch 32/40\n",
      "34100/34100 [==============================] - 93s 3ms/step - loss: 0.6327 - val_loss: 0.6329\n",
      "Epoch 33/40\n",
      "34100/34100 [==============================] - 94s 3ms/step - loss: 0.6323 - val_loss: 0.6295\n",
      "Epoch 34/40\n",
      "34100/34100 [==============================] - 94s 3ms/step - loss: 0.6319 - val_loss: 0.6307\n",
      "Epoch 35/40\n",
      "34100/34100 [==============================] - 93s 3ms/step - loss: 0.6319 - val_loss: 0.6284\n",
      "Epoch 36/40\n",
      "34100/34100 [==============================] - 96s 3ms/step - loss: 0.6318 - val_loss: 0.6310\n",
      "Epoch 37/40\n",
      "34100/34100 [==============================] - 96s 3ms/step - loss: 0.6315 - val_loss: 0.6301\n",
      "Epoch 38/40\n",
      "34100/34100 [==============================] - 101s 3ms/step - loss: 0.6313 - val_loss: 0.6293\n",
      "Epoch 39/40\n",
      "34100/34100 [==============================] - 102s 3ms/step - loss: 0.6313 - val_loss: 0.6311\n",
      "Epoch 40/40\n",
      "34100/34100 [==============================] - 101s 3ms/step - loss: 0.6311 - val_loss: 0.6270\n"
     ]
    },
    {
     "data": {
      "text/plain": [
       "<keras.callbacks.History at 0x262141b5c50>"
      ]
     },
     "execution_count": 4,
     "metadata": {},
     "output_type": "execute_result"
    }
   ],
   "source": [
    "from keras.callbacks import TensorBoard\n",
    "\n",
    "autoencoder.fit(x_train_noisy, x_train,\n",
    "                epochs=40,\n",
    "                batch_size=128,\n",
    "                shuffle=True,\n",
    "                validation_data=(x_test_noisy, x_test),\n",
    "                callbacks=[TensorBoard(log_dir='/tmp/autoencoder')])"
   ]
  },
  {
   "cell_type": "code",
   "execution_count": 5,
   "metadata": {},
   "outputs": [
    {
     "data": {
      "text/plain": [
       "(34100, 32, 32, 1)"
      ]
     },
     "execution_count": 5,
     "metadata": {},
     "output_type": "execute_result"
    }
   ],
   "source": [
    "decoded_imgs_train = autoencoder.predict(x_train_noisy)\n",
    "decoded_imgs_train.shape"
   ]
  },
  {
   "cell_type": "code",
   "execution_count": 6,
   "metadata": {},
   "outputs": [
    {
     "data": {
      "image/png": "[encoded data removed]",
      "text/plain": [
       "<matplotlib.figure.Figure at 0x262a9f396d8>"
      ]
     },
     "metadata": {},
     "output_type": "display_data"
    }
   ],
   "source": [
    "n = 10\n",
    "plt.figure(figsize=(20, 4))\n",
    "for i in range(n):\n",
    "    # display original\n",
    "    ax = plt.subplot(2, n, i+1)\n",
    "    plt.imshow(x_train_noisy[i+100].reshape(32, 32))\n",
    "    plt.gray()\n",
    "    ax.get_xaxis().set_visible(False)\n",
    "    ax.get_yaxis().set_visible(False)\n",
    "\n",
    "    # display reconstruction\n",
    "    ax = plt.subplot(2, n, i+n+1)\n",
    "    plt.imshow(decoded_imgs_train[i+100].reshape(32, 32))\n",
    "    plt.gray()\n",
    "    ax.get_xaxis().set_visible(False)\n",
    "    ax.get_yaxis().set_visible(False)\n",
    "plt.show()"
   ]
  },
  {
   "cell_type": "code",
   "execution_count": 7,
   "metadata": {},
   "outputs": [
    {
     "name": "stdout",
     "output_type": "stream",
     "text": [
      "Train on 34100 samples, validate on 17670 samples\n",
      "Epoch 1/20\n",
      "34100/34100 [==============================] - 110s 3ms/step - loss: 0.3307 - acc: 0.8982 - val_loss: 0.4841 - val_acc: 0.8148\n",
      "Epoch 2/20\n",
      "34100/34100 [==============================] - 111s 3ms/step - loss: 0.1857 - acc: 0.9395 - val_loss: 0.3434 - val_acc: 0.8637\n",
      "Epoch 3/20\n",
      "34100/34100 [==============================] - 114s 3ms/step - loss: 0.1566 - acc: 0.9491 - val_loss: 0.3917 - val_acc: 0.8591\n",
      "Epoch 4/20\n",
      "34100/34100 [==============================] - 114s 3ms/step - loss: 0.1357 - acc: 0.9546 - val_loss: 0.4750 - val_acc: 0.8470\n"
     ]
    },
    {
     "data": {
      "text/plain": [
       "<keras.callbacks.History at 0x262aa71ce10>"
      ]
     },
     "execution_count": 7,
     "metadata": {},
     "output_type": "execute_result"
    }
   ],
   "source": [
    "import keras\n",
    "from keras.models import Sequential\n",
    "from keras.layers import Dense, Dropout, Flatten\n",
    "from keras.layers import Conv2D, MaxPooling2D\n",
    "from keras import backend as K\n",
    "from keras.callbacks import EarlyStopping\n",
    "\n",
    "early_stopping_monitor = EarlyStopping(patience=2)\n",
    "\n",
    "input_shape=x_train[1].shape\n",
    "                   \n",
    "model = Sequential()\n",
    "model.add(Conv2D(16, kernel_size=(3, 3),\n",
    "                 activation='relu',\n",
    "                 input_shape=input_shape))\n",
    "model.add(Conv2D(32, (3, 3), activation='relu'))\n",
    "model.add(MaxPooling2D(pool_size=(2, 2)))\n",
    "model.add(Dropout(0.25))\n",
    "model.add(Flatten())\n",
    "model.add(Dense(128, activation='relu'))\n",
    "model.add(Dropout(0.5))\n",
    "model.add(Dense(target_train.shape[1], activation='softmax'))\n",
    "\n",
    "model.compile(loss='categorical_crossentropy',\n",
    "              optimizer=\"adam\",\n",
    "              metrics=['accuracy'])\n",
    "\n",
    "\n",
    "model.fit(decoded_imgs_train,target_train,\n",
    "          epochs=20,\n",
    "          validation_data=(x_test, target_test),\n",
    "          callbacks=[early_stopping_monitor])"
   ]
  },
  {
   "cell_type": "code",
   "execution_count": 8,
   "metadata": {},
   "outputs": [
    {
     "name": "stdout",
     "output_type": "stream",
     "text": [
      "17670/17670 [==============================] - 13s 752us/step\n"
     ]
    },
    {
     "data": {
      "text/plain": [
       "[0.49599519286946875, 0.8585172608874245]"
      ]
     },
     "execution_count": 8,
     "metadata": {},
     "output_type": "execute_result"
    }
   ],
   "source": [
    "model.evaluate(autoencoder.predict(x_test_noisy),target_test)"
   ]
  },
  {
   "cell_type": "code",
   "execution_count": 9,
   "metadata": {
    "scrolled": false
   },
   "outputs": [
    {
     "name": "stdout",
     "output_type": "stream",
     "text": [
      "17670/17670 [==============================] - 13s 715us/step\n"
     ]
    },
    {
     "data": {
      "text/plain": [
       "[0.41925441834289373, 0.8816638370051382]"
      ]
     },
     "execution_count": 9,
     "metadata": {},
     "output_type": "execute_result"
    }
   ],
   "source": [
    "model.evaluate(autoencoder.predict(x_test),target_test)"
   ]
  }
 ],
 "metadata": {
  "kernelspec": {
   "display_name": "Python 3",
   "language": "python",
   "name": "python3"
  },
  "language_info": {
   "codemirror_mode": {
    "name": "ipython",
    "version": 3
   },
   "file_extension": ".py",
   "mimetype": "text/x-python",
   "name": "python",
   "nbconvert_exporter": "python",
   "pygments_lexer": "ipython3",
   "version": "3.6.0"
  }
 },
 "nbformat": 4,
 "nbformat_minor": 2
}

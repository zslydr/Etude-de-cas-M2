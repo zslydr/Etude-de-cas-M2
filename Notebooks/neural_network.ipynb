{
 "cells": [
  {
   "cell_type": "code",
   "execution_count": 2,
   "metadata": {},
   "outputs": [
    {
     "name": "stdout",
     "output_type": "stream",
     "text": [
      "/home/ubuntu/Etude-de-Cas\n"
     ]
    }
   ],
   "source": [
    "import os\n",
    "import pickle\n",
    "import importlib\n",
    "import numpy as np\n",
    "import matplotlib.pyplot as plt\n",
    "from sklearn.utils import shuffle\n",
    "#from skimage import exposure\n",
    "#os.chdir('~/') #Select your working directory\n",
    "cwd = os.getcwd()\n",
    "#Functions=importlib.import_module(\"Functions\")\n",
    "#Functions=importlib.reload(Functions)\n",
    "print(cwd)"
   ]
  },
  {
   "cell_type": "code",
   "execution_count": 3,
   "metadata": {},
   "outputs": [],
   "source": [
    "def load_pickled_data(file, columns):\n",
    "    with open(file, mode='rb') as f:\n",
    "        dataset = pickle.load(f)\n",
    "    return tuple(map(lambda c: dataset[c], columns))\n",
    "\n",
    "def preprocess_dataset(X):\n",
    "    #Convert to grayscale, e.g. single Y channel\n",
    "    X = 0.299 * X[:, :, :, 0] + 0.587 * X[:, :, :, 1] + 0.114 * X[:, :, :, 2]\n",
    "    #Scale features to be in [0, 1]\n",
    "    X = (X / 255.).astype(np.float32)\n",
    "\n",
    "    # Add a single grayscale channel\n",
    "    X = X.reshape(X.shape + (1,)) \n",
    "    return X"
   ]
  },
  {
   "cell_type": "code",
   "execution_count": 29,
   "metadata": {},
   "outputs": [],
   "source": [
    "X_train, y_train = load_pickled_data(\"train.p\", ['features', 'labels'])\n",
    "X_test, y_test = load_pickled_data(\"test.p\", ['features', 'labels'])"
   ]
  },
  {
   "cell_type": "code",
   "execution_count": 30,
   "metadata": {},
   "outputs": [],
   "source": [
    "X_train, y_train = shuffle(X_train, y_train, random_state=0)\n",
    "X_test, y_test = shuffle(X_test, y_test, random_state=0)"
   ]
  },
  {
   "cell_type": "code",
   "execution_count": 31,
   "metadata": {},
   "outputs": [
    {
     "data": {
      "image/png": "[encoded data removed]",
      "text/plain": [
       "<Figure size 432x288 with 1 Axes>"
      ]
     },
     "metadata": {},
     "output_type": "display_data"
    },
    {
     "data": {
      "image/png": "[encoded data removed]",
      "text/plain": [
       "<Figure size 432x288 with 1 Axes>"
      ]
     },
     "metadata": {},
     "output_type": "display_data"
    },
    {
     "name": "stdout",
     "output_type": "stream",
     "text": [
      "shape of the train set:(39209, 32, 32, 1)\n"
     ]
    }
   ],
   "source": [
    "from keras.utils import to_categorical\n",
    "target_train = to_categorical(y_train)\n",
    "target_test=to_categorical(y_test)\n",
    "\n",
    "\n",
    "plt.imshow(X_train[412])\n",
    "plt.show()\n",
    "\n",
    "X_train=preprocess_dataset(X_train)\n",
    "X_test=preprocess_dataset(X_test)\n",
    "\n",
    "plt.imshow(X_train[412].reshape(32,32))\n",
    "plt.show()\n",
    "\n",
    "print(\"shape of the train set:\"+str(X_train.shape))\n",
    "\n",
    "num_classes=target_train.shape[1]\n",
    "\n",
    "input_shape=X_train[1].shape"
   ]
  },
  {
   "cell_type": "code",
   "execution_count": 32,
   "metadata": {},
   "outputs": [],
   "source": [
    "import keras\n",
    "from keras.models import Sequential\n",
    "from keras.layers import Dense, Dropout, Flatten\n",
    "from keras.layers import Conv2D, MaxPooling2D\n",
    "from keras import backend as K\n",
    "from keras.callbacks import EarlyStopping\n",
    "\n",
    "early_stopping_monitor = EarlyStopping(patience=2)"
   ]
  },
  {
   "cell_type": "code",
   "execution_count": 33,
   "metadata": {},
   "outputs": [],
   "source": [
    "model = Sequential()\n",
    "model.add(Conv2D(16, kernel_size=(3, 3),\n",
    "                 activation='relu',\n",
    "                 input_shape=input_shape))\n",
    "model.add(Conv2D(32, (3, 3), activation='relu'))\n",
    "model.add(MaxPooling2D(pool_size=(2, 2)))\n",
    "model.add(Dropout(0.25))\n",
    "model.add(Flatten())\n",
    "model.add(Dense(128, activation='relu'))\n",
    "model.add(Dropout(0.5))\n",
    "model.add(Dense(num_classes, activation='softmax'))\n",
    "\n"
   ]
  },
  {
   "cell_type": "code",
   "execution_count": 34,
   "metadata": {},
   "outputs": [],
   "source": [
    "model.compile(loss='categorical_crossentropy',\n",
    "              optimizer=\"adam\",\n",
    "              metrics=['accuracy'])"
   ]
  },
  {
   "cell_type": "code",
   "execution_count": 29,
   "metadata": {},
   "outputs": [],
   "source": [
    "model.compile(loss=keras.losses.categorical_crossentropy,\n",
    "              optimizer=keras.optimizers.Adadelta(),\n",
    "              metrics=['accuracy'])"
   ]
  },
  {
   "cell_type": "code",
   "execution_count": 35,
   "metadata": {},
   "outputs": [
    {
     "name": "stdout",
     "output_type": "stream",
     "text": [
      "Train on 27446 samples, validate on 11763 samples\n",
      "Epoch 1/20\n",
      "27446/27446 [==============================] - 8s 284us/step - loss: 1.6362 - acc: 0.5561 - val_loss: 0.4247 - val_acc: 0.9043\n",
      "Epoch 2/20\n",
      "27446/27446 [==============================] - 7s 265us/step - loss: 0.6181 - acc: 0.8136 - val_loss: 0.2141 - val_acc: 0.9509\n",
      "Epoch 3/20\n",
      "27446/27446 [==============================] - 7s 263us/step - loss: 0.4364 - acc: 0.8636 - val_loss: 0.1381 - val_acc: 0.9685\n",
      "Epoch 4/20\n",
      "27446/27446 [==============================] - 7s 262us/step - loss: 0.3507 - acc: 0.8883 - val_loss: 0.1058 - val_acc: 0.9786\n",
      "Epoch 5/20\n",
      "27446/27446 [==============================] - 7s 263us/step - loss: 0.3005 - acc: 0.9058 - val_loss: 0.0924 - val_acc: 0.9767\n",
      "Epoch 6/20\n",
      "27446/27446 [==============================] - 7s 262us/step - loss: 0.2687 - acc: 0.9142 - val_loss: 0.0839 - val_acc: 0.9796\n",
      "Epoch 7/20\n",
      "27446/27446 [==============================] - 7s 262us/step - loss: 0.2386 - acc: 0.9230 - val_loss: 0.0750 - val_acc: 0.9811\n",
      "Epoch 8/20\n",
      "27446/27446 [==============================] - 7s 261us/step - loss: 0.2003 - acc: 0.9338 - val_loss: 0.0598 - val_acc: 0.9872\n",
      "Epoch 9/20\n",
      "27446/27446 [==============================] - 7s 262us/step - loss: 0.1927 - acc: 0.9370 - val_loss: 0.0582 - val_acc: 0.9855\n",
      "Epoch 10/20\n",
      "27446/27446 [==============================] - 7s 262us/step - loss: 0.1726 - acc: 0.9440 - val_loss: 0.0516 - val_acc: 0.9877\n",
      "Epoch 11/20\n",
      "27446/27446 [==============================] - 7s 262us/step - loss: 0.1575 - acc: 0.9486 - val_loss: 0.0452 - val_acc: 0.9893\n",
      "Epoch 12/20\n",
      "27446/27446 [==============================] - 7s 262us/step - loss: 0.1477 - acc: 0.9514 - val_loss: 0.0466 - val_acc: 0.9895\n",
      "Epoch 13/20\n",
      "27446/27446 [==============================] - 7s 262us/step - loss: 0.1312 - acc: 0.9561 - val_loss: 0.0384 - val_acc: 0.9915\n",
      "Epoch 14/20\n",
      "27446/27446 [==============================] - 7s 262us/step - loss: 0.1257 - acc: 0.9581 - val_loss: 0.0405 - val_acc: 0.9911\n",
      "Epoch 15/20\n",
      "27446/27446 [==============================] - 7s 261us/step - loss: 0.1134 - acc: 0.9626 - val_loss: 0.0396 - val_acc: 0.9909\n"
     ]
    },
    {
     "data": {
      "text/plain": [
       "<keras.callbacks.History at 0x7f5f8788b240>"
      ]
     },
     "execution_count": 35,
     "metadata": {},
     "output_type": "execute_result"
    }
   ],
   "source": [
    "model.fit(X_train,target_train,\n",
    "          epochs=20,\n",
    "          validation_split=0.3,\n",
    "          callbacks=[early_stopping_monitor])"
   ]
  },
  {
   "cell_type": "code",
   "execution_count": 36,
   "metadata": {},
   "outputs": [
    {
     "name": "stdout",
     "output_type": "stream",
     "text": [
      "12630/12630 [==============================] - 1s 83us/step\n"
     ]
    },
    {
     "data": {
      "text/plain": [
       "[0.15713808473785093, 0.9619952494533687]"
      ]
     },
     "execution_count": 36,
     "metadata": {},
     "output_type": "execute_result"
    }
   ],
   "source": [
    "model.evaluate(X_test, target_test)"
   ]
  },
  {
   "cell_type": "code",
   "execution_count": 37,
   "metadata": {},
   "outputs": [],
   "source": [
    "model.save(\"first_model.hd5\")"
   ]
  }
 ],
 "metadata": {
  "kernelspec": {
   "display_name": "Python [default]",
   "language": "python",
   "name": "python3"
  },
  "language_info": {
   "codemirror_mode": {
    "name": "ipython",
    "version": 3
   },
   "file_extension": ".py",
   "mimetype": "text/x-python",
   "name": "python",
   "nbconvert_exporter": "python",
   "pygments_lexer": "ipython3",
   "version": "3.6.4"
  }
 },
 "nbformat": 4,
 "nbformat_minor": 2
}

{
 "cells": [
  {
   "cell_type": "code",
   "execution_count": 1,
   "metadata": {},
   "outputs": [
    {
     "name": "stderr",
     "output_type": "stream",
     "text": [
      "/home/ubuntu/anaconda3/envs/tensorflow_p36/lib/python3.6/site-packages/matplotlib/__init__.py:1067: UserWarning: Duplicate key in file \"/home/ubuntu/.config/matplotlib/matplotlibrc\", line #2\n",
      "  (fname, cnt))\n",
      "/home/ubuntu/anaconda3/envs/tensorflow_p36/lib/python3.6/site-packages/matplotlib/__init__.py:1067: UserWarning: Duplicate key in file \"/home/ubuntu/.config/matplotlib/matplotlibrc\", line #3\n",
      "  (fname, cnt))\n"
     ]
    },
    {
     "name": "stdout",
     "output_type": "stream",
     "text": [
      "/home/ubuntu/Etude-de-Cas\n"
     ]
    }
   ],
   "source": [
    "import os\n",
    "import pickle\n",
    "import importlib\n",
    "import numpy as np\n",
    "import matplotlib.pyplot as plt\n",
    "#from sklearn.utils import shuffle\n",
    "#from skimage import exposure\n",
    "#os.chdir('~/') #Select your working directory\n",
    "cwd = os.getcwd()\n",
    "#Functions=importlib.import_module(\"Functions\")\n",
    "#Functions=importlib.reload(Functions)\n",
    "print(cwd)"
   ]
  },
  {
   "cell_type": "code",
   "execution_count": 2,
   "metadata": {},
   "outputs": [],
   "source": [
    "def load_pickled_data(file, columns):\n",
    "    with open(file, mode='rb') as f:\n",
    "        dataset = pickle.load(f)\n",
    "    return tuple(map(lambda c: dataset[c], columns))\n",
    "\n",
    "def preprocess_dataset(X):\n",
    "    #Convert to grayscale, e.g. single Y channel\n",
    "    X = 0.299 * X[:, :, :, 0] + 0.587 * X[:, :, :, 1] + 0.114 * X[:, :, :, 2]\n",
    "    #Scale features to be in [0, 1]\n",
    "    X = (X / 255.).astype(np.float32)\n",
    "\n",
    "    # Add a single grayscale channel\n",
    "    X = X.reshape(X.shape + (1,)) \n",
    "    return X"
   ]
  },
  {
   "cell_type": "code",
   "execution_count": 3,
   "metadata": {},
   "outputs": [],
   "source": [
    "X_train, y_train = load_pickled_data(\"train.p\", ['features', 'labels'])\n",
    "X_test, y_test = load_pickled_data(\"test.p\", ['features', 'labels'])"
   ]
  },
  {
   "cell_type": "code",
   "execution_count": 5,
   "metadata": {},
   "outputs": [
    {
     "name": "stderr",
     "output_type": "stream",
     "text": [
      "/home/ubuntu/anaconda3/envs/tensorflow_p36/lib/python3.6/site-packages/h5py/__init__.py:36: FutureWarning: Conversion of the second argument of issubdtype from `float` to `np.floating` is deprecated. In future, it will be treated as `np.float64 == np.dtype(float).type`.\n",
      "  from ._conv import register_converters as _register_converters\n",
      "Using TensorFlow backend.\n"
     ]
    },
    {
     "data": {
      "image/png": "[encoded data removed]",
      "text/plain": [
       "<Figure size 432x288 with 1 Axes>"
      ]
     },
     "metadata": {},
     "output_type": "display_data"
    },
    {
     "data": {
      "image/png": "[encoded data removed]",
      "text/plain": [
       "<Figure size 432x288 with 1 Axes>"
      ]
     },
     "metadata": {},
     "output_type": "display_data"
    },
    {
     "name": "stdout",
     "output_type": "stream",
     "text": [
      "(39209, 32, 32, 1)\n"
     ]
    }
   ],
   "source": [
    "from keras.utils import to_categorical\n",
    "target = to_categorical(y_train)\n",
    "target_test=to_categorical(y_test)\n",
    "\n",
    "\n",
    "plt.imshow(X_train[412])\n",
    "plt.show()\n",
    "\n",
    "X_train=preprocess_dataset(X_train)\n",
    "X_test=preprocess_dataset(X_test)\n",
    "\n",
    "plt.imshow(X_train[412].reshape(32,32))\n",
    "plt.show()\n",
    "\n",
    "print(\"shape of the train set:\"+X_train.shape)\n",
    "\n",
    "num_classes=target_train.shape[1]\n",
    "\n",
    "input_shape=X_train[1].shape"
   ]
  },
  {
   "cell_type": "code",
   "execution_count": 7,
   "metadata": {},
   "outputs": [],
   "source": [
    "import keras\n",
    "from keras.models import Sequential\n",
    "from keras.layers import Dense, Dropout, Flatten\n",
    "from keras.layers import Conv2D, MaxPooling2D\n",
    "from keras import backend as K"
   ]
  },
  {
   "cell_type": "code",
   "execution_count": 26,
   "metadata": {},
   "outputs": [],
   "source": [
    "model = Sequential()\n",
    "model.add(Conv2D(32, kernel_size=(3, 3),\n",
    "                 activation='relu',\n",
    "                 input_shape=input_shape))\n",
    "model.add(Conv2D(64, (3, 3), activation='relu'))\n",
    "model.add(MaxPooling2D(pool_size=(2, 2)))\n",
    "model.add(Dropout(0.25))\n",
    "model.add(Flatten())\n",
    "model.add(Dense(32, activation='relu'))\n",
    "model.add(Dropout(0.5))\n",
    "model.add(Dense(num_classes, activation='softmax'))\n",
    "\n"
   ]
  },
  {
   "cell_type": "code",
   "execution_count": 27,
   "metadata": {},
   "outputs": [],
   "source": [
    "model.compile(loss=keras.losses.categorical_crossentropy,\n",
    "              optimizer=\"adam\",\n",
    "              metrics=['accuracy'])"
   ]
  },
  {
   "cell_type": "code",
   "execution_count": 28,
   "metadata": {},
   "outputs": [
    {
     "name": "stdout",
     "output_type": "stream",
     "text": [
      "Train on 26270 samples, validate on 12939 samples\n",
      "Epoch 1/20\n",
      "26270/26270 [==============================] - 5s 177us/step - loss: 2.2550 - acc: 0.3353 - val_loss: 9.1585 - val_acc: 0.0097\n",
      "Epoch 2/20\n",
      "26270/26270 [==============================] - 4s 155us/step - loss: 1.1593 - acc: 0.5978 - val_loss: 12.4287 - val_acc: 0.0098\n",
      "Epoch 3/20\n",
      "26270/26270 [==============================] - 4s 155us/step - loss: 0.8718 - acc: 0.6838 - val_loss: 13.7947 - val_acc: 0.0099\n",
      "Epoch 4/20\n",
      "26270/26270 [==============================] - 4s 155us/step - loss: 0.7712 - acc: 0.7141 - val_loss: 14.3205 - val_acc: 0.0097\n",
      "Epoch 5/20\n",
      "26270/26270 [==============================] - 4s 155us/step - loss: 0.7014 - acc: 0.7356 - val_loss: 14.4944 - val_acc: 0.0099\n",
      "Epoch 6/20\n",
      "26270/26270 [==============================] - 4s 155us/step - loss: 0.6401 - acc: 0.7556 - val_loss: 14.8268 - val_acc: 0.0098\n",
      "Epoch 7/20\n",
      "26270/26270 [==============================] - 4s 155us/step - loss: 0.6160 - acc: 0.7664 - val_loss: 15.0083 - val_acc: 0.0098\n",
      "Epoch 8/20\n",
      "26270/26270 [==============================] - 4s 155us/step - loss: 0.5633 - acc: 0.7885 - val_loss: 15.0208 - val_acc: 0.0098\n",
      "Epoch 9/20\n",
      "26270/26270 [==============================] - 4s 155us/step - loss: 0.5300 - acc: 0.7968 - val_loss: 15.2797 - val_acc: 0.0096\n",
      "Epoch 10/20\n",
      "26270/26270 [==============================] - 4s 156us/step - loss: 0.5043 - acc: 0.8070 - val_loss: 15.4124 - val_acc: 0.0098\n",
      "Epoch 11/20\n",
      "26270/26270 [==============================] - 4s 155us/step - loss: 0.4957 - acc: 0.8101 - val_loss: 15.4489 - val_acc: 0.0097\n",
      "Epoch 12/20\n",
      "26270/26270 [==============================] - 4s 155us/step - loss: 0.4717 - acc: 0.8184 - val_loss: 15.6426 - val_acc: 0.0098\n",
      "Epoch 13/20\n",
      "26270/26270 [==============================] - 4s 155us/step - loss: 0.4630 - acc: 0.8214 - val_loss: 15.6202 - val_acc: 0.0097\n",
      "Epoch 14/20\n",
      "26270/26270 [==============================] - 4s 155us/step - loss: 0.4491 - acc: 0.8260 - val_loss: 15.6384 - val_acc: 0.0099\n",
      "Epoch 15/20\n",
      "26270/26270 [==============================] - 4s 155us/step - loss: 0.4392 - acc: 0.8289 - val_loss: 15.6075 - val_acc: 0.0096\n",
      "Epoch 16/20\n",
      "26270/26270 [==============================] - 4s 155us/step - loss: 0.4348 - acc: 0.8309 - val_loss: 15.5886 - val_acc: 0.0097\n",
      "Epoch 17/20\n",
      "26270/26270 [==============================] - 4s 155us/step - loss: 0.4173 - acc: 0.8356 - val_loss: 15.6465 - val_acc: 0.0099\n",
      "Epoch 18/20\n",
      "26270/26270 [==============================] - 4s 155us/step - loss: 0.4220 - acc: 0.8370 - val_loss: 15.5517 - val_acc: 0.0097\n",
      "Epoch 19/20\n",
      "26270/26270 [==============================] - 4s 155us/step - loss: 0.4115 - acc: 0.8392 - val_loss: 15.5940 - val_acc: 0.0099\n",
      "Epoch 20/20\n",
      "26270/26270 [==============================] - 4s 155us/step - loss: 0.4050 - acc: 0.8439 - val_loss: 15.6419 - val_acc: 0.0100\n"
     ]
    },
    {
     "data": {
      "text/plain": [
       "<keras.callbacks.History at 0x7f18561680b8>"
      ]
     },
     "execution_count": 28,
     "metadata": {},
     "output_type": "execute_result"
    }
   ],
   "source": [
    "model.fit(X_train,target,\n",
    "          epochs=20,\n",
    "          batch_size=128,\n",
    "          validation_split=0.33)"
   ]
  },
  {
   "cell_type": "code",
   "execution_count": 30,
   "metadata": {},
   "outputs": [
    {
     "name": "stdout",
     "output_type": "stream",
     "text": [
      "12630/12630 [==============================] - 1s 90us/step\n"
     ]
    },
    {
     "data": {
      "text/plain": [
       "[5.032694237740004, 0.661124307233383]"
      ]
     },
     "execution_count": 30,
     "metadata": {},
     "output_type": "execute_result"
    }
   ],
   "source": [
    "model.evaluate(X_test, target_test)"
   ]
  },
  {
   "cell_type": "code",
   "execution_count": 31,
   "metadata": {},
   "outputs": [],
   "source": [
    "model.save(\"first_model\")"
   ]
  },
  {
   "cell_type": "code",
   "execution_count": null,
   "metadata": {},
   "outputs": [],
   "source": []
  }
 ],
 "metadata": {
  "kernelspec": {
   "display_name": "Python [default]",
   "language": "python",
   "name": "python3"
  },
  "language_info": {
   "codemirror_mode": {
    "name": "ipython",
    "version": 3
   },
   "file_extension": ".py",
   "mimetype": "text/x-python",
   "name": "python",
   "nbconvert_exporter": "python",
   "pygments_lexer": "ipython3",
   "version": "3.6.4"
  }
 },
 "nbformat": 4,
 "nbformat_minor": 2
}

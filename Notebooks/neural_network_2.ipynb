{
 "cells": [
  {
   "cell_type": "code",
   "execution_count": 1,
   "metadata": {},
   "outputs": [
    {
     "name": "stderr",
     "output_type": "stream",
     "text": [
      "/home/ubuntu/anaconda3/envs/tensorflow_p36/lib/python3.6/site-packages/matplotlib/__init__.py:1067: UserWarning: Duplicate key in file \"/home/ubuntu/.config/matplotlib/matplotlibrc\", line #2\n",
      "  (fname, cnt))\n",
      "/home/ubuntu/anaconda3/envs/tensorflow_p36/lib/python3.6/site-packages/matplotlib/__init__.py:1067: UserWarning: Duplicate key in file \"/home/ubuntu/.config/matplotlib/matplotlibrc\", line #3\n",
      "  (fname, cnt))\n"
     ]
    },
    {
     "name": "stdout",
     "output_type": "stream",
     "text": [
      "/home/ubuntu/Etude-de-Cas\n"
     ]
    }
   ],
   "source": [
    "import os\n",
    "import pickle\n",
    "import importlib\n",
    "import numpy as np\n",
    "import matplotlib.pyplot as plt\n",
    "from sklearn.utils import shuffle\n",
    "#from skimage import exposure\n",
    "#os.chdir('~/') #Select your working directory\n",
    "cwd = os.getcwd()\n",
    "#Functions=importlib.import_module(\"Functions\")\n",
    "#Functions=importlib.reload(Functions)\n",
    "print(cwd)"
   ]
  },
  {
   "cell_type": "code",
   "execution_count": 2,
   "metadata": {},
   "outputs": [],
   "source": [
    "def load_pickled_data(file, columns):\n",
    "    with open(file, mode='rb') as f:\n",
    "        dataset = pickle.load(f)\n",
    "    return tuple(map(lambda c: dataset[c], columns))\n",
    "\n",
    "def preprocess_dataset(X):\n",
    "    #Convert to grayscale, e.g. single Y channel\n",
    "    X = 0.299 * X[:, :, :, 0] + 0.587 * X[:, :, :, 1] + 0.114 * X[:, :, :, 2]\n",
    "    #Scale features to be in [0, 1]\n",
    "    X = (X / 255.).astype(np.float32)\n",
    "\n",
    "    # Add a single grayscale channel\n",
    "    X = X.reshape(X.shape + (1,)) \n",
    "    return X"
   ]
  },
  {
   "cell_type": "code",
   "execution_count": 8,
   "metadata": {},
   "outputs": [],
   "source": [
    "X_train, y_train = load_pickled_data(\"train.p\", ['features', 'labels'])\n",
    "X_test, y_test = load_pickled_data(\"test.p\", ['features', 'labels'])"
   ]
  },
  {
   "cell_type": "code",
   "execution_count": 9,
   "metadata": {},
   "outputs": [],
   "source": [
    "X_train, y_train = shuffle(X_train, y_train, random_state=0)\n",
    "X_test, y_test = shuffle(X_test, y_test, random_state=0)"
   ]
  },
  {
   "cell_type": "code",
   "execution_count": 10,
   "metadata": {},
   "outputs": [
    {
     "data": {
      "image/png": "[encoded data removed]",
      "text/plain": [
       "<Figure size 432x288 with 1 Axes>"
      ]
     },
     "metadata": {},
     "output_type": "display_data"
    },
    {
     "name": "stdout",
     "output_type": "stream",
     "text": [
      "shape of the train set:(39209, 32, 32, 3)\n"
     ]
    }
   ],
   "source": [
    "from keras.utils import to_categorical\n",
    "target_train = to_categorical(y_train)\n",
    "target_test=to_categorical(y_test)\n",
    "\n",
    "\n",
    "plt.imshow(X_train[412])\n",
    "plt.show()\n",
    "\n",
    "#X_train=preprocess_dataset(X_train)\n",
    "#X_test=preprocess_dataset(X_test)\n",
    "\n",
    "#plt.imshow(X_train[412].reshape(32,32))\n",
    "#plt.show()\n",
    "\n",
    "print(\"shape of the train set:\"+str(X_train.shape))\n",
    "\n",
    "num_classes=target_train.shape[1]\n",
    "\n",
    "input_shape=X_train[1].shape"
   ]
  },
  {
   "cell_type": "code",
   "execution_count": 11,
   "metadata": {},
   "outputs": [],
   "source": [
    "import keras\n",
    "from keras.models import Sequential\n",
    "from keras.layers import Dense, Dropout, Flatten\n",
    "from keras.layers import Conv2D, MaxPooling2D\n",
    "from keras import backend as K\n",
    "from keras.callbacks import EarlyStopping\n",
    "\n",
    "early_stopping_monitor = EarlyStopping(patience=2)"
   ]
  },
  {
   "cell_type": "code",
   "execution_count": 15,
   "metadata": {},
   "outputs": [],
   "source": [
    "model = Sequential()\n",
    "model.add(Conv2D(16, kernel_size=(3, 3),\n",
    "                 activation='relu',\n",
    "                 input_shape=input_shape))\n",
    "model.add(Conv2D(32, (3, 3), activation='relu'))\n",
    "model.add(MaxPooling2D(pool_size=(2, 2)))\n",
    "model.add(Dropout(0.25))\n",
    "model.add(Flatten())\n",
    "model.add(Dense(128, activation='relu'))\n",
    "model.add(Dropout(0.5))\n",
    "model.add(Dense(num_classes, activation='softmax'))\n",
    "\n"
   ]
  },
  {
   "cell_type": "code",
   "execution_count": 13,
   "metadata": {},
   "outputs": [],
   "source": [
    "model.compile(loss='categorical_crossentropy',\n",
    "              optimizer=\"adam\",\n",
    "              metrics=['accuracy'])"
   ]
  },
  {
   "cell_type": "code",
   "execution_count": 16,
   "metadata": {},
   "outputs": [],
   "source": [
    "model.compile(loss=keras.losses.categorical_crossentropy,\n",
    "              optimizer=keras.optimizers.Adadelta(),\n",
    "              metrics=['accuracy'])"
   ]
  },
  {
   "cell_type": "code",
   "execution_count": 17,
   "metadata": {},
   "outputs": [
    {
     "name": "stdout",
     "output_type": "stream",
     "text": [
      "Train on 27446 samples, validate on 11763 samples\n",
      "Epoch 1/20\n",
      "27446/27446 [==============================] - 8s 298us/step - loss: 8.6248 - acc: 0.1427 - val_loss: 1.5635 - val_acc: 0.6174\n",
      "Epoch 2/20\n",
      "27446/27446 [==============================] - 8s 281us/step - loss: 1.3066 - acc: 0.6560 - val_loss: 0.5032 - val_acc: 0.8808\n",
      "Epoch 3/20\n",
      "27446/27446 [==============================] - 8s 281us/step - loss: 0.6915 - acc: 0.8116 - val_loss: 0.2226 - val_acc: 0.9477\n",
      "Epoch 4/20\n",
      "27446/27446 [==============================] - 8s 281us/step - loss: 0.4709 - acc: 0.8726 - val_loss: 0.1730 - val_acc: 0.9577\n",
      "Epoch 5/20\n",
      "27446/27446 [==============================] - 8s 280us/step - loss: 0.3471 - acc: 0.9046 - val_loss: 0.1213 - val_acc: 0.9702\n",
      "Epoch 6/20\n",
      "27446/27446 [==============================] - 8s 279us/step - loss: 0.2811 - acc: 0.9242 - val_loss: 0.1114 - val_acc: 0.9759\n",
      "Epoch 7/20\n",
      "27446/27446 [==============================] - 8s 279us/step - loss: 0.2377 - acc: 0.9397 - val_loss: 0.1421 - val_acc: 0.9706\n",
      "Epoch 8/20\n",
      "27446/27446 [==============================] - 8s 279us/step - loss: 0.2028 - acc: 0.9488 - val_loss: 0.0857 - val_acc: 0.9811\n",
      "Epoch 9/20\n",
      "27446/27446 [==============================] - 8s 279us/step - loss: 0.1843 - acc: 0.9530 - val_loss: 0.0679 - val_acc: 0.9855\n",
      "Epoch 10/20\n",
      "27446/27446 [==============================] - 8s 279us/step - loss: 0.1638 - acc: 0.9583 - val_loss: 0.0726 - val_acc: 0.9855\n",
      "Epoch 11/20\n",
      "27446/27446 [==============================] - 8s 279us/step - loss: 0.1617 - acc: 0.9605 - val_loss: 0.0713 - val_acc: 0.9850\n"
     ]
    },
    {
     "data": {
      "text/plain": [
       "<keras.callbacks.History at 0x7f0170d136d8>"
      ]
     },
     "execution_count": 17,
     "metadata": {},
     "output_type": "execute_result"
    }
   ],
   "source": [
    "model.fit(X_train,target_train,\n",
    "          epochs=20,\n",
    "          validation_split=0.3,\n",
    "          callbacks=[early_stopping_monitor])"
   ]
  },
  {
   "cell_type": "code",
   "execution_count": 18,
   "metadata": {},
   "outputs": [
    {
     "name": "stdout",
     "output_type": "stream",
     "text": [
      "12630/12630 [==============================] - 1s 90us/step\n"
     ]
    },
    {
     "data": {
      "text/plain": [
       "[0.2253395825198255, 0.9537608867491981]"
      ]
     },
     "execution_count": 18,
     "metadata": {},
     "output_type": "execute_result"
    }
   ],
   "source": [
    "model.evaluate(X_test, target_test)"
   ]
  },
  {
   "cell_type": "code",
   "execution_count": 19,
   "metadata": {},
   "outputs": [],
   "source": [
    "model.save(\"second_model.hd5\")"
   ]
  }
 ],
 "metadata": {
  "kernelspec": {
   "display_name": "Python [default]",
   "language": "python",
   "name": "python3"
  },
  "language_info": {
   "codemirror_mode": {
    "name": "ipython",
    "version": 3
   },
   "file_extension": ".py",
   "mimetype": "text/x-python",
   "name": "python",
   "nbconvert_exporter": "python",
   "pygments_lexer": "ipython3",
   "version": "3.6.4"
  }
 },
 "nbformat": 4,
 "nbformat_minor": 2
}

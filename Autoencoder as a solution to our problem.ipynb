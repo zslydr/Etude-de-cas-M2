{
 "cells": [
  {
   "cell_type": "code",
   "execution_count": 41,
   "metadata": {},
   "outputs": [
    {
     "name": "stdout",
     "output_type": "stream",
     "text": [
      "0.0 % de progression\n",
      "10.0 % de progression\n",
      "20.0 % de progression\n",
      "30.0 % de progression\n",
      "40.0 % de progression\n",
      "50.0 % de progression\n",
      "60.0 % de progression\n",
      "70.0 % de progression\n",
      "80.0 % de progression\n",
      "90.0 % de progression\n",
      "0.0 % de progression\n",
      "22.22222222222222 % de progression\n",
      "44.44444444444444 % de progression\n",
      "66.66666666666666 % de progression\n",
      "88.88888888888889 % de progression\n"
     ]
    },
    {
     "name": "stderr",
     "output_type": "stream",
     "text": [
      "C:\\Users\\Pierre Lavigne\\Anaconda3\\lib\\site-packages\\skimage\\util\\dtype.py:110: UserWarning: Possible precision loss when converting from float64 to uint16\n",
      "  \"%s to %s\" % (dtypeobj_in, dtypeobj))\n"
     ]
    }
   ],
   "source": [
    "import random\n",
    "import numpy as np\n",
    "import importlib\n",
    "import matplotlib.pyplot as plt\n",
    "from keras.utils import to_categorical\n",
    "import os\n",
    "os.chdir('C:/Users/Pierre Lavigne/Dropbox/Etude de Cas M2/Scripts') #Select your working directory\n",
    "cwd = os.getcwd()\n",
    "F=importlib.import_module(\"Functions\")\n",
    "F=importlib.reload(F)\n",
    "\n",
    "\n",
    "(X_train, train_label) = F.load_pickled_data(\"C:/Users/Pierre Lavigne/Desktop/data/train.p\", ['features', 'labels'])\n",
    "(X_test, test_label) = F.load_pickled_data(\"C:/Users/Pierre Lavigne/Desktop/data/test.p\", ['features', 'labels'])\n",
    "X_train = X_train/255.\n",
    "X_test = X_test/255.\n",
    "\n",
    "x_train = X_train[:1000]\n",
    "train_label = train_label[:1000]\n",
    "\n",
    "x_test = X_test[test_label == 41]\n",
    "x_test = np.append(x_test,X_test[test_label == 31],axis=0)\n",
    "x_test = np.append(x_test,X_test[test_label == 36],axis=0)\n",
    "\n",
    "y_test = test_label[test_label == 41]\n",
    "y_test = np.append(y_test,test_label[test_label == 31],axis =0)\n",
    "y_test = np.append(y_test,test_label[test_label == 36],axis =0)\n",
    "\n",
    "(x_train,train_label) = F.increase_data(x_train,10,train_label)\n",
    "(x_test,test_label) = F.increase_data(x_test,10,y_test)\n",
    "\n",
    "\n",
    "(x_train,train_label) = F.flip_extend(x_train,train_label)\n",
    "(x_test,test_label) = F.flip_extend(x_test,test_label)\n",
    "\n",
    "x_train_noisy = F.sqr_noise(x_train,(5,25),(5,25),3)\n",
    "x_train=F.preprocess_dataset_new(x_train)\n",
    "x_train_noisy=F.preprocess_dataset_new(x_train_noisy)\n",
    "\n",
    "x_test_noisy = F.sqr_noise(x_test,(5,25),(5,25),3)\n",
    "x_test=F.preprocess_dataset_new(x_test)\n",
    "x_test_noisy=F.preprocess_dataset_new(x_test_noisy)\n",
    "\n",
    "x_test = x_test.astype('float32') \n",
    "x_train = x_train.astype('float32') \n",
    "x_test_noisy = x_test_noisy.astype('float32') \n",
    "x_train_noisy = x_train_noisy.astype('float32') \n",
    "\n",
    "\n",
    "x_train = np.reshape(x_train, (len(x_train), 32, 32, 1))  # adapt this if using `channels_first` image data format\n",
    "x_test = np.reshape(x_test, (len(x_test), 32, 32, 1))  # adapt this if using `channels_first` image data format\n",
    "x_train_noisy = np.reshape(x_train_noisy, (len(x_train), 32, 32, 1))  # adapt this if using `channels_first` image data format\n",
    "x_test_noisy = np.reshape(x_test_noisy, (len(x_test), 32, 32, 1))  # adapt this if using `channels_first` image data format\n",
    "\n",
    "target_train = to_categorical(train_label)\n",
    "target_test=to_categorical(test_label)"
   ]
  },
  {
   "cell_type": "code",
   "execution_count": 42,
   "metadata": {},
   "outputs": [
    {
     "data": {
      "text/plain": [
       "((23100, 32, 32, 1), (23100, 42), (11970, 32, 32, 1), (11970, 42))"
      ]
     },
     "execution_count": 42,
     "metadata": {},
     "output_type": "execute_result"
    }
   ],
   "source": [
    "x_train.shape,target_train.shape,x_test.shape,target_test.shape"
   ]
  },
  {
   "cell_type": "code",
   "execution_count": 45,
   "metadata": {},
   "outputs": [
    {
     "name": "stdout",
     "output_type": "stream",
     "text": [
      "_________________________________________________________________\n",
      "Layer (type)                 Output Shape              Param #   \n",
      "=================================================================\n",
      "input_15 (InputLayer)        (None, 32, 32, 1)         0         \n",
      "_________________________________________________________________\n",
      "conv2d_80 (Conv2D)           (None, 32, 32, 16)        160       \n",
      "_________________________________________________________________\n",
      "max_pooling2d_33 (MaxPooling (None, 16, 16, 16)        0         \n",
      "_________________________________________________________________\n",
      "conv2d_81 (Conv2D)           (None, 16, 16, 8)         1160      \n",
      "_________________________________________________________________\n",
      "max_pooling2d_34 (MaxPooling (None, 8, 8, 8)           0         \n",
      "_________________________________________________________________\n",
      "conv2d_82 (Conv2D)           (None, 8, 8, 8)           584       \n",
      "_________________________________________________________________\n",
      "max_pooling2d_35 (MaxPooling (None, 4, 4, 8)           0         \n",
      "_________________________________________________________________\n",
      "conv2d_83 (Conv2D)           (None, 4, 4, 8)           584       \n",
      "_________________________________________________________________\n",
      "up_sampling2d_24 (UpSampling (None, 8, 8, 8)           0         \n",
      "_________________________________________________________________\n",
      "conv2d_84 (Conv2D)           (None, 8, 8, 8)           584       \n",
      "_________________________________________________________________\n",
      "up_sampling2d_25 (UpSampling (None, 16, 16, 8)         0         \n",
      "_________________________________________________________________\n",
      "conv2d_85 (Conv2D)           (None, 16, 16, 16)        1168      \n",
      "_________________________________________________________________\n",
      "up_sampling2d_26 (UpSampling (None, 32, 32, 16)        0         \n",
      "_________________________________________________________________\n",
      "conv2d_86 (Conv2D)           (None, 32, 32, 1)         145       \n",
      "=================================================================\n",
      "Total params: 4,385\n",
      "Trainable params: 4,385\n",
      "Non-trainable params: 0\n",
      "_________________________________________________________________\n"
     ]
    }
   ],
   "source": [
    "from keras.layers import Input, Dense, Conv2D, MaxPooling2D, UpSampling2D, Conv2DTranspose\n",
    "from keras.models import Model\n",
    "from keras import backend as K\n",
    "\n",
    "input_img = Input(shape=(32, 32, 1))  # adapt this if using `channels_first` image data format\n",
    "\n",
    "x = Conv2D(16, (3, 3), activation='relu', padding='same')(input_img)\n",
    "x = MaxPooling2D((2, 2), padding='same')(x)\n",
    "x = Conv2D(8, (3, 3), activation='relu', padding='same')(x)\n",
    "x = MaxPooling2D((2, 2), padding='same')(x)\n",
    "x = Conv2D(8, (3, 3), activation='relu', padding='same')(x)\n",
    "encoded = MaxPooling2D((2, 2), padding='same')(x)\n",
    "\n",
    "# at this point the representation is (4, 4, 8) i.e. 128-dimensional\n",
    "\n",
    "x = Conv2D(8, (3, 3), activation='relu', padding='same')(encoded)\n",
    "x = UpSampling2D((2, 2))(x)\n",
    "x = Conv2D(8, (3, 3), activation='relu', padding='same')(x)\n",
    "x = UpSampling2D((2, 2))(x)\n",
    "x = Conv2D(16, (3, 3), activation='relu', padding ='same')(x)\n",
    "x = UpSampling2D((2, 2))(x)\n",
    "decoded = Conv2D(1, (3, 3), activation='sigmoid', padding='same')(x)\n",
    "\n",
    "autoencoder = Model(input_img, decoded)\n",
    "autoencoder.compile(optimizer='adadelta', loss='binary_crossentropy')\n",
    "\n",
    "autoencoder.summary()"
   ]
  },
  {
   "cell_type": "code",
   "execution_count": 46,
   "metadata": {
    "scrolled": false
   },
   "outputs": [
    {
     "name": "stdout",
     "output_type": "stream",
     "text": [
      "Train on 23100 samples, validate on 11970 samples\n",
      "Epoch 1/40\n",
      "23100/23100 [==============================] - 65s 3ms/step - loss: 0.6817 - val_loss: 0.6668\n",
      "Epoch 2/40\n",
      "23100/23100 [==============================] - 69s 3ms/step - loss: 0.6710 - val_loss: 0.6623\n",
      "Epoch 3/40\n",
      "23100/23100 [==============================] - 69s 3ms/step - loss: 0.6668 - val_loss: 0.6588\n",
      "Epoch 4/40\n",
      "23100/23100 [==============================] - 66s 3ms/step - loss: 0.6635 - val_loss: 0.6579\n",
      "Epoch 5/40\n",
      "23100/23100 [==============================] - 68s 3ms/step - loss: 0.6608 - val_loss: 0.6546\n",
      "Epoch 6/40\n",
      "23100/23100 [==============================] - 75s 3ms/step - loss: 0.6584 - val_loss: 0.6538\n",
      "Epoch 7/40\n",
      "23100/23100 [==============================] - 79s 3ms/step - loss: 0.6570 - val_loss: 0.6529\n",
      "Epoch 8/40\n",
      "23100/23100 [==============================] - 76s 3ms/step - loss: 0.6555 - val_loss: 0.6541\n",
      "Epoch 9/40\n",
      "23100/23100 [==============================] - 68s 3ms/step - loss: 0.6542 - val_loss: 0.6527\n",
      "Epoch 10/40\n",
      "23100/23100 [==============================] - 67s 3ms/step - loss: 0.6529 - val_loss: 0.6486\n",
      "Epoch 11/40\n",
      "23100/23100 [==============================] - 70s 3ms/step - loss: 0.6519 - val_loss: 0.6488\n",
      "Epoch 12/40\n",
      "23100/23100 [==============================] - 77s 3ms/step - loss: 0.6511 - val_loss: 0.6485\n",
      "Epoch 13/40\n",
      "23100/23100 [==============================] - 77s 3ms/step - loss: 0.6501 - val_loss: 0.6469\n",
      "Epoch 14/40\n",
      "23100/23100 [==============================] - 78s 3ms/step - loss: 0.6492 - val_loss: 0.6449\n",
      "Epoch 15/40\n",
      "23100/23100 [==============================] - 79s 3ms/step - loss: 0.6486 - val_loss: 0.6447\n",
      "Epoch 16/40\n",
      "23100/23100 [==============================] - 79s 3ms/step - loss: 0.6476 - val_loss: 0.6439\n",
      "Epoch 17/40\n",
      "23100/23100 [==============================] - 79s 3ms/step - loss: 0.6468 - val_loss: 0.6429\n",
      "Epoch 18/40\n",
      "23100/23100 [==============================] - 79s 3ms/step - loss: 0.6458 - val_loss: 0.6420\n",
      "Epoch 19/40\n",
      "23100/23100 [==============================] - 78s 3ms/step - loss: 0.6452 - val_loss: 0.6411\n",
      "Epoch 20/40\n",
      "23100/23100 [==============================] - 78s 3ms/step - loss: 0.6446 - val_loss: 0.6443\n",
      "Epoch 21/40\n",
      "23100/23100 [==============================] - 79s 3ms/step - loss: 0.6438 - val_loss: 0.6401\n",
      "Epoch 22/40\n",
      "23100/23100 [==============================] - 78s 3ms/step - loss: 0.6432 - val_loss: 0.6397\n",
      "Epoch 23/40\n",
      "23100/23100 [==============================] - 74s 3ms/step - loss: 0.6427 - val_loss: 0.6443\n",
      "Epoch 24/40\n",
      "23100/23100 [==============================] - 70s 3ms/step - loss: 0.6422 - val_loss: 0.6388\n",
      "Epoch 25/40\n",
      "23100/23100 [==============================] - 71s 3ms/step - loss: 0.6418 - val_loss: 0.6393\n",
      "Epoch 26/40\n",
      "23100/23100 [==============================] - 74s 3ms/step - loss: 0.6413 - val_loss: 0.6392\n",
      "Epoch 27/40\n",
      "23100/23100 [==============================] - 77s 3ms/step - loss: 0.6408 - val_loss: 0.6375\n",
      "Epoch 28/40\n",
      "23100/23100 [==============================] - 74s 3ms/step - loss: 0.6405 - val_loss: 0.6381\n",
      "Epoch 29/40\n",
      "23100/23100 [==============================] - 76s 3ms/step - loss: 0.6400 - val_loss: 0.6407\n",
      "Epoch 30/40\n",
      "23100/23100 [==============================] - 68s 3ms/step - loss: 0.6395 - val_loss: 0.6359\n",
      "Epoch 31/40\n",
      "23100/23100 [==============================] - 71s 3ms/step - loss: 0.6392 - val_loss: 0.6349\n",
      "Epoch 32/40\n",
      "23100/23100 [==============================] - 73s 3ms/step - loss: 0.6390 - val_loss: 0.6349\n",
      "Epoch 33/40\n",
      "23100/23100 [==============================] - 69s 3ms/step - loss: 0.6386 - val_loss: 0.6349\n",
      "Epoch 34/40\n",
      "23100/23100 [==============================] - 70s 3ms/step - loss: 0.6382 - val_loss: 0.6359\n",
      "Epoch 35/40\n",
      "23100/23100 [==============================] - 68s 3ms/step - loss: 0.6379 - val_loss: 0.6349\n",
      "Epoch 36/40\n",
      "23100/23100 [==============================] - 72s 3ms/step - loss: 0.6375 - val_loss: 0.6333\n",
      "Epoch 37/40\n",
      "23100/23100 [==============================] - 72s 3ms/step - loss: 0.6373 - val_loss: 0.6332\n",
      "Epoch 38/40\n",
      "23100/23100 [==============================] - 72s 3ms/step - loss: 0.6371 - val_loss: 0.6329\n",
      "Epoch 39/40\n",
      "23100/23100 [==============================] - 69s 3ms/step - loss: 0.6367 - val_loss: 0.6359\n",
      "Epoch 40/40\n",
      "23100/23100 [==============================] - 69s 3ms/step - loss: 0.6366 - val_loss: 0.6330\n"
     ]
    },
    {
     "data": {
      "text/plain": [
       "<keras.callbacks.History at 0x17cb0d86ac8>"
      ]
     },
     "execution_count": 46,
     "metadata": {},
     "output_type": "execute_result"
    }
   ],
   "source": [
    "from keras.callbacks import TensorBoard\n",
    "\n",
    "autoencoder.fit(x_train_noisy, x_train,\n",
    "                epochs=40,\n",
    "                batch_size=128,\n",
    "                shuffle=True,\n",
    "                validation_data=(x_test_noisy, x_test),\n",
    "                callbacks=[TensorBoard(log_dir='/tmp/autoencoder')])"
   ]
  },
  {
   "cell_type": "code",
   "execution_count": 64,
   "metadata": {},
   "outputs": [],
   "source": [
    "decoded_imgs_train = autoencoder.predict(x_train_noisy)\n",
    "decoded_imgs_test = autoencoder.predict(x_test_noisy)"
   ]
  },
  {
   "cell_type": "code",
   "execution_count": 48,
   "metadata": {
    "scrolled": true
   },
   "outputs": [
    {
     "data": {
      "image/png": "[encoded data removed]",
      "text/plain": [
       "<matplotlib.figure.Figure at 0x17cb127d438>"
      ]
     },
     "metadata": {},
     "output_type": "display_data"
    }
   ],
   "source": [
    "n = 10\n",
    "plt.figure(figsize=(20, 4))\n",
    "for i in range(n):\n",
    "    # display original\n",
    "    ax = plt.subplot(2, n, i+1)\n",
    "    plt.imshow(x_train_noisy[i+100].reshape(32, 32))\n",
    "    plt.gray()\n",
    "    ax.get_xaxis().set_visible(False)\n",
    "    ax.get_yaxis().set_visible(False)\n",
    "\n",
    "    # display reconstruction\n",
    "    ax = plt.subplot(2, n, i+n+1)\n",
    "    plt.imshow(decoded_imgs_train[i+100].reshape(32, 32))\n",
    "    plt.gray()\n",
    "    ax.get_xaxis().set_visible(False)\n",
    "    ax.get_yaxis().set_visible(False)\n",
    "plt.show()"
   ]
  },
  {
   "cell_type": "code",
   "execution_count": 50,
   "metadata": {},
   "outputs": [
    {
     "name": "stdout",
     "output_type": "stream",
     "text": [
      "Train on 23100 samples, validate on 11970 samples\n",
      "Epoch 1/20\n",
      "23100/23100 [==============================] - 73s 3ms/step - loss: 0.4057 - acc: 0.8712 - val_loss: 0.6186 - val_acc: 0.7886\n",
      "Epoch 2/20\n",
      "23100/23100 [==============================] - 82s 4ms/step - loss: 0.2299 - acc: 0.9255 - val_loss: 0.5641 - val_acc: 0.8119\n",
      "Epoch 3/20\n",
      "23100/23100 [==============================] - 75s 3ms/step - loss: 0.2034 - acc: 0.9324 - val_loss: 0.6504 - val_acc: 0.7846\n",
      "Epoch 4/20\n",
      "23100/23100 [==============================] - 77s 3ms/step - loss: 0.1852 - acc: 0.9388 - val_loss: 0.6032 - val_acc: 0.7942\n",
      "Epoch 5/20\n",
      "23100/23100 [==============================] - 77s 3ms/step - loss: 0.1667 - acc: 0.9459 - val_loss: 0.8415 - val_acc: 0.7331\n"
     ]
    },
    {
     "data": {
      "text/plain": [
       "<keras.callbacks.History at 0x17c5ef77f28>"
      ]
     },
     "execution_count": 50,
     "metadata": {},
     "output_type": "execute_result"
    }
   ],
   "source": [
    "import keras\n",
    "from keras.models import Sequential\n",
    "from keras.layers import Dense, Dropout, Flatten\n",
    "from keras.layers import Conv2D, MaxPooling2D\n",
    "from keras import backend as K\n",
    "from keras.callbacks import EarlyStopping\n",
    "\n",
    "early_stopping_monitor = EarlyStopping(patience=3)\n",
    "\n",
    "input_shape=x_train[1].shape\n",
    "                   \n",
    "model = Sequential()\n",
    "model.add(Conv2D(16, kernel_size=(3, 3),\n",
    "                 activation='relu',\n",
    "                 input_shape=input_shape))\n",
    "model.add(Conv2D(32, (3, 3), activation='relu'))\n",
    "model.add(MaxPooling2D(pool_size=(2, 2)))\n",
    "model.add(Dropout(0.25))\n",
    "model.add(Flatten())\n",
    "model.add(Dense(128, activation='relu'))\n",
    "model.add(Dropout(0.5))\n",
    "model.add(Dense(target_train.shape[1], activation='softmax'))\n",
    "\n",
    "model.compile(loss='categorical_crossentropy',\n",
    "              optimizer=\"adam\",\n",
    "              metrics=['accuracy'])\n",
    "\n",
    "\n",
    "model.fit(decoded_imgs_train,target_train,\n",
    "          epochs=20,\n",
    "          validation_data=(x_test, target_test),\n",
    "          callbacks=[early_stopping_monitor])"
   ]
  },
  {
   "cell_type": "code",
   "execution_count": 51,
   "metadata": {},
   "outputs": [
    {
     "name": "stdout",
     "output_type": "stream",
     "text": [
      "11970/11970 [==============================] - 10s 844us/step\n"
     ]
    },
    {
     "data": {
      "text/plain": [
       "[0.5766466075093399, 0.8302422723475356]"
      ]
     },
     "execution_count": 51,
     "metadata": {},
     "output_type": "execute_result"
    }
   ],
   "source": [
    "model.evaluate(autoencoder.predict(x_test_noisy),target_test)"
   ]
  },
  {
   "cell_type": "code",
   "execution_count": 52,
   "metadata": {
    "scrolled": false
   },
   "outputs": [
    {
     "name": "stdout",
     "output_type": "stream",
     "text": [
      "11970/11970 [==============================] - 10s 858us/step\n"
     ]
    },
    {
     "data": {
      "text/plain": [
       "[0.47896697977730895, 0.8593984962406015]"
      ]
     },
     "execution_count": 52,
     "metadata": {},
     "output_type": "execute_result"
    }
   ],
   "source": [
    "model.evaluate(autoencoder.predict(x_test),target_test)"
   ]
  },
  {
   "cell_type": "code",
   "execution_count": 65,
   "metadata": {},
   "outputs": [],
   "source": [
    "X_train = np.append(decoded_imgs_train,x_train,axis = 0)\n",
    "Target_train = np.append(target_train,target_train,axis = 0)\n",
    "X_test = np.append(decoded_imgs_test,x_test,axis = 0)\n",
    "Target_test = np.append(target_test,target_test,axis = 0)"
   ]
  },
  {
   "cell_type": "code",
   "execution_count": 69,
   "metadata": {
    "scrolled": true
   },
   "outputs": [
    {
     "name": "stdout",
     "output_type": "stream",
     "text": [
      "Train on 46200 samples, validate on 23940 samples\n",
      "Epoch 1/20\n",
      "46200/46200 [==============================] - 140s 3ms/step - loss: 0.2739 - acc: 0.9123 - val_loss: 0.4364 - val_acc: 0.8502\n",
      "Epoch 2/20\n",
      "46200/46200 [==============================] - 135s 3ms/step - loss: 0.1412 - acc: 0.9535 - val_loss: 0.3556 - val_acc: 0.8849\n",
      "Epoch 3/20\n",
      "46200/46200 [==============================] - 136s 3ms/step - loss: 0.1116 - acc: 0.9629 - val_loss: 0.3761 - val_acc: 0.8958\n",
      "Epoch 4/20\n",
      "46200/46200 [==============================] - 129s 3ms/step - loss: 0.0949 - acc: 0.9672 - val_loss: 0.4564 - val_acc: 0.8731\n",
      "Epoch 5/20\n",
      "46200/46200 [==============================] - 130s 3ms/step - loss: 0.0846 - acc: 0.9703 - val_loss: 0.5784 - val_acc: 0.8721\n",
      "Epoch 6/20\n",
      "46200/46200 [==============================] - 131s 3ms/step - loss: 0.0739 - acc: 0.9743 - val_loss: 0.4607 - val_acc: 0.8880\n",
      "Epoch 7/20\n",
      "46200/46200 [==============================] - 132s 3ms/step - loss: 0.0648 - acc: 0.9776 - val_loss: 0.4958 - val_acc: 0.8934\n"
     ]
    },
    {
     "data": {
      "text/plain": [
       "<keras.callbacks.History at 0x17c13717e80>"
      ]
     },
     "execution_count": 69,
     "metadata": {},
     "output_type": "execute_result"
    }
   ],
   "source": [
    "import keras\n",
    "from keras.models import Sequential\n",
    "from keras.layers import Dense, Dropout, Flatten\n",
    "from keras.layers import Conv2D, MaxPooling2D\n",
    "from keras import backend as K\n",
    "from keras.callbacks import EarlyStopping\n",
    "\n",
    "early_stopping_monitor = EarlyStopping(patience=5)\n",
    "\n",
    "input_shape=x_train[1].shape\n",
    "                   \n",
    "model = Sequential()\n",
    "model.add(Conv2D(16, kernel_size=(3, 3),\n",
    "                 activation='relu',\n",
    "                 input_shape=input_shape))\n",
    "model.add(Conv2D(32, (3, 3), activation='relu'))\n",
    "model.add(MaxPooling2D(pool_size=(2, 2)))\n",
    "model.add(Dropout(0.25))\n",
    "model.add(Flatten())\n",
    "model.add(Dense(128, activation='relu'))\n",
    "model.add(Dropout(0.5))\n",
    "model.add(Dense(target_train.shape[1], activation='softmax'))\n",
    "\n",
    "model.compile(loss='categorical_crossentropy',\n",
    "              optimizer=\"adam\",\n",
    "              metrics=['accuracy'])\n",
    "\n",
    "\n",
    "model.fit(X_train,Target_train,\n",
    "          epochs=20,\n",
    "          validation_data=(X_test, Target_test),\n",
    "          callbacks=[early_stopping_monitor])"
   ]
  },
  {
   "cell_type": "code",
   "execution_count": 68,
   "metadata": {},
   "outputs": [
    {
     "name": "stdout",
     "output_type": "stream",
     "text": [
      "23940/23940 [==============================] - 18s 764us/step\n"
     ]
    },
    {
     "data": {
      "text/plain": [
       "[0.3649096120069098, 0.8930242272347535]"
      ]
     },
     "execution_count": 68,
     "metadata": {},
     "output_type": "execute_result"
    }
   ],
   "source": [
    "model.evaluate(X_test,Target_test)"
   ]
  }
 ],
 "metadata": {
  "kernelspec": {
   "display_name": "Python 3",
   "language": "python",
   "name": "python3"
  },
  "language_info": {
   "codemirror_mode": {
    "name": "ipython",
    "version": 3
   },
   "file_extension": ".py",
   "mimetype": "text/x-python",
   "name": "python",
   "nbconvert_exporter": "python",
   "pygments_lexer": "ipython3",
   "version": "3.6.0"
  }
 },
 "nbformat": 4,
 "nbformat_minor": 2
}
